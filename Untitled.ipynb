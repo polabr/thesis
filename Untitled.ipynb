{
 "cells": [
  {
   "cell_type": "code",
   "execution_count": null,
   "id": "75417427",
   "metadata": {},
   "outputs": [],
   "source": []
  },
  {
   "cell_type": "code",
   "execution_count": 3,
   "id": "389a14bd",
   "metadata": {},
   "outputs": [],
   "source": [
    "lProtonMom = [1082.3474115647148, 1071.660718922391, 1035.984866522877, 1755.4979390211047, 2071.4381320219422, 1724.6150892097285, 1022.7968609775113]\n",
    "muomMom = [537.6969768331487, 293.46529312479237, 1077.103454886876, 406.41935358331614, 725.2669854539085, 241.65249820876352, 595.9535517314805]\n",
    "pionMom = [369.5023920459552, 186.1072744772882, 144.87020972639905, 256.1807678197516, 807.807803841935, 494.8852540237025, 320.36656059130286]"
   ]
  },
  {
   "cell_type": "code",
   "execution_count": null,
   "id": "bc24dd33",
   "metadata": {},
   "outputs": [],
   "source": []
  }
 ],
 "metadata": {
  "kernelspec": {
   "display_name": "Python 3",
   "language": "python",
   "name": "python3"
  },
  "language_info": {
   "codemirror_mode": {
    "name": "ipython",
    "version": 3
   },
   "file_extension": ".py",
   "mimetype": "text/x-python",
   "name": "python",
   "nbconvert_exporter": "python",
   "pygments_lexer": "ipython3",
   "version": "3.8.5"
  }
 },
 "nbformat": 4,
 "nbformat_minor": 5
}
