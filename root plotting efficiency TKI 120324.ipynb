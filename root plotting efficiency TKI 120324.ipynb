{
 "cells": [
  {
   "cell_type": "code",
   "execution_count": 1,
   "id": "d891b0a0",
   "metadata": {},
   "outputs": [
    {
     "name": "stdout",
     "output_type": "stream",
     "text": [
      "Welcome to JupyROOT 6.22/09\n"
     ]
    }
   ],
   "source": [
    "import ROOT as rt\n",
    "from ROOT import TFile, TTree, TCanvas, TH2D, TH1F, gStyle\n",
    "import numpy as np"
   ]
  },
  {
   "cell_type": "code",
   "execution_count": 2,
   "id": "e0b6aed3",
   "metadata": {},
   "outputs": [],
   "source": [
    "gStyle.SetOptStat(0)\n",
    "rt.TH1.SetDefaultSumw2(rt.kTRUE) # make sure stats carried over correctly to error bars"
   ]
  },
  {
   "cell_type": "code",
   "execution_count": 3,
   "id": "83c3821d",
   "metadata": {},
   "outputs": [],
   "source": [
    "h_trueAndReco = rt.TH1F(\"h_trueAndReco\",\"Efficiency\",10, 0,180)\n",
    "h_true = rt.TH1F(\"h_true\",\"True\",10, 0, 180)\n",
    "h_reco = rt.TH1F(\"h_reco\",\"Reco\",10, 0, 180)"
   ]
  },
  {
   "cell_type": "code",
   "execution_count": 4,
   "id": "68a9a0ed",
   "metadata": {},
   "outputs": [
    {
     "name": "stdout",
     "output_type": "stream",
     "text": [
      "10913\n"
     ]
    }
   ],
   "source": [
    "f = TFile(\"selectedEventsTrueRecoBoth_withTKI_test113024.root\",\"READ\") # latest file, has TKI in it\n",
    "t = f.Get(\"selectedEvents\")\n",
    "\n",
    "entries = t.GetEntries()\n",
    "print(entries)"
   ]
  },
  {
   "cell_type": "code",
   "execution_count": 5,
   "id": "5af8dbfa",
   "metadata": {},
   "outputs": [
    {
     "ename": "SyntaxError",
     "evalue": "invalid syntax (3689058896.py, line 13)",
     "output_type": "error",
     "traceback": [
      "\u001b[0;36m  Input \u001b[0;32mIn [5]\u001b[0;36m\u001b[0m\n\u001b[0;31m    if (t.passedSel_ == 2) or (t.passedSel_ == 3): # passes reco selection as well (both selections)\u001b[0m\n\u001b[0m                                                 ^\u001b[0m\n\u001b[0;31mSyntaxError\u001b[0m\u001b[0;31m:\u001b[0m invalid syntax\n"
     ]
    }
   ],
   "source": [
    "#plotvar here is: t.truthSel_delPTT_\n",
    "# making efficiency plot in terms of truth delPTT (first TKI variable)\n",
    "# for delAlphaT, need to do: (t.truthSel_delAlphaT_)*180/np.pi\n",
    "\n",
    "completeness = 0.5\n",
    "\n",
    "for e in range(entries):\n",
    "\n",
    "    t.GetEntry(e)\n",
    "    \n",
    "    if (t.passedSel_ == 1) or (t.passedSel_ == 3): # passes truth selection\n",
    "        h_true.Fill((t.truthSel_delPTT_, t.weight_)\n",
    "        if (t.passedSel_ == 2) or (t.passedSel_ == 3): # passes reco selection as well (both selections)\n",
    "        #if (t.passedSel_ == 3) and (t.recoSel_trackCompMu_ > completeness) and (t.recoSel_trackCompPi_ > completeness) and (t.recoSel_trackCompP_ > completeness) and (t.recoSel_recoContained_==2):\n",
    "        #if (t.passedSel_ == 3) and (t.recoSel_trackCompMu_ > completeness) and (t.recoSel_trackCompPi_ > completeness) and (t.recoSel_trackCompP_ > completeness):\n",
    "            h_trueAndReco.Fill(t.truthSel_delPTT_, t.weight_)\n",
    "    if (t.passedSel_ == 2) or (t.passedSel_ == 3): # passes reco selection\n",
    "        h_reco.Fill((t.truthSel_delPTT_, t.weight_)\n",
    "        "
   ]
  },
  {
   "cell_type": "code",
   "execution_count": null,
   "id": "cab70ca6",
   "metadata": {},
   "outputs": [],
   "source": [
    "completeness = 0.5\n",
    "\n",
    "for e in range(entries):\n",
    "\n",
    "    t.GetEntry(e)\n",
    "    \n",
    "    if (t.passedSel_ == 1) or (t.passedSel_ == 3): \n",
    "        h_true.Fill((t.truthSel_delPTT_, t.weight_)\n",
    "        if (t.passedSel_ == 2) or (t.passedSel_ == 3): \n",
    "           h_trueAndReco.Fill(t.truthSel_delPTT_, t.weight_)\n",
    "    if (t.passedSel_ == 2) or (t.passedSel_ == 3): \n",
    "        h_reco.Fill((t.truthSel_delPTT_, t.weight_)"
   ]
  },
  {
   "cell_type": "code",
   "execution_count": null,
   "id": "72743c00",
   "metadata": {},
   "outputs": [],
   "source": [
    "targetPOT = 1.3e21\n",
    "simPOT = 4.68e20 # this is for run 1\n",
    "\n",
    "h_trueAndReco.Scale(targetPOT/simPOT)\n",
    "h_true.Scale(targetPOT/simPOT)\n",
    "h_reco.Scale(targetPOT/simPOT)"
   ]
  },
  {
   "cell_type": "code",
   "execution_count": null,
   "id": "95f0fb69",
   "metadata": {},
   "outputs": [],
   "source": [
    "c1 = TCanvas(\"c1\",\"c1\",720,152,682,505)\n",
    "c1.cd()\n",
    "h_reco.Draw(\"\")\n",
    "\n",
    "c1.Draw()"
   ]
  },
  {
   "cell_type": "code",
   "execution_count": null,
   "id": "3fcd245a",
   "metadata": {},
   "outputs": [],
   "source": [
    "h_eff = h_trueAndReco.Clone(\"h_eff\")\n",
    "#h_eff.Divide(h_true) # Poisson error bars (ROOT default)\n",
    "h_eff.Divide(h_trueAndReco, h_true, 1.0, 1.0, \"B\") # Binomial error bars\n",
    "\n",
    "print(\"h_eff: \", h_eff)\n",
    "\n",
    "h_eff.GetXaxis().SetTitle(\"Truth delPTT [GeV]\")\n",
    "\n",
    "canvas = TCanvas(\"canvas\",\"canvas\",720,152,682,505)\n",
    "canvas.cd()\n",
    "h_eff.Draw(\"\")\n",
    "\n",
    "canvas.Draw()\n",
    "\n",
    "#outfile = rt.TFile(\"plots.root\",\"RECREATE\")\n",
    "#canvas.Write()\n",
    "\n"
   ]
  },
  {
   "cell_type": "code",
   "execution_count": null,
   "id": "a71eaf7f",
   "metadata": {},
   "outputs": [],
   "source": [
    "for i in range( h_eff.GetNbinsX() ):\n",
    "    print(h_eff.GetBinContent(i))"
   ]
  },
  {
   "cell_type": "code",
   "execution_count": null,
   "id": "83cab58d",
   "metadata": {},
   "outputs": [],
   "source": []
  },
  {
   "cell_type": "code",
   "execution_count": null,
   "id": "2104aeff",
   "metadata": {},
   "outputs": [],
   "source": []
  }
 ],
 "metadata": {
  "kernelspec": {
   "display_name": "Python 3",
   "language": "python",
   "name": "python3"
  },
  "language_info": {
   "codemirror_mode": {
    "name": "ipython",
    "version": 3
   },
   "file_extension": ".py",
   "mimetype": "text/x-python",
   "name": "python",
   "nbconvert_exporter": "python",
   "pygments_lexer": "ipython3",
   "version": "3.8.5"
  }
 },
 "nbformat": 4,
 "nbformat_minor": 5
}
