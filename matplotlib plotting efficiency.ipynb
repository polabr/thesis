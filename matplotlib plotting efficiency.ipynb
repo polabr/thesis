{
 "cells": [
  {
   "cell_type": "code",
   "execution_count": 1,
   "id": "d891b0a0",
   "metadata": {},
   "outputs": [
    {
     "name": "stdout",
     "output_type": "stream",
     "text": [
      "Welcome to JupyROOT 6.22/09\n"
     ]
    }
   ],
   "source": [
    "import numpy as np\n",
    "import matplotlib.pyplot as plt\n",
    "\n",
    "import ROOT as rt\n",
    "from ROOT import TFile, TTree, TCanvas, TH2D, TH1F"
   ]
  },
  {
   "cell_type": "code",
   "execution_count": 2,
   "id": "68a9a0ed",
   "metadata": {},
   "outputs": [
    {
     "name": "stdout",
     "output_type": "stream",
     "text": [
      "10913\n"
     ]
    }
   ],
   "source": [
    "f = TFile(\"selectedEventsTrueRecoBoth_091524.root\",\"READ\")\n",
    "t = f.Get(\"selectedEvents\")\n",
    "\n",
    "entries = t.GetEntries()\n",
    "print(entries)"
   ]
  },
  {
   "cell_type": "code",
   "execution_count": 3,
   "id": "5af8dbfa",
   "metadata": {},
   "outputs": [
    {
     "name": "stdout",
     "output_type": "stream",
     "text": [
      "len(h_true):  9964\n",
      "len(h_trueAndReco):  1816\n",
      "len(h_reco):  2765\n"
     ]
    }
   ],
   "source": [
    "h_trueAndReco = []\n",
    "h_true = []\n",
    "h_reco = []\n",
    "\n",
    "for e in range(entries):\n",
    "\n",
    "    t.GetEntry(e)\n",
    "    \n",
    "    if (t.passedSel_ == 1) or (t.passedSel_ == 3): # passes truth selection\n",
    "        h_true.append(t.truthSel_truthMuonMom_)\n",
    "    if (t.passedSel_ == 3): # passes both selections\n",
    "        h_trueAndReco.append(t.truthSel_truthMuonMom_)\n",
    "    if (t.passedSel_ == 2) or (t.passedSel_ == 3): # passes reco selection\n",
    "        h_reco.append(t.truthSel_truthMuonMom_)\n",
    "            \n",
    "#print(\"h_true: \", h_true)\n",
    "print(\"len(h_true): \", len(h_true))\n",
    "\n",
    "#print(\"h_trueAndReco: \", h_trueAndReco)\n",
    "print(\"len(h_trueAndReco): \", len(h_trueAndReco))\n",
    "\n",
    "print(\"len(h_reco): \", len(h_reco))\n",
    "\n",
    "true_arr = np.asarray(h_true)\n",
    "trueAndReco_arr = np.asarray(h_trueAndReco)\n",
    "reco_arr = np.asarray(h_reco)\n"
   ]
  },
  {
   "cell_type": "code",
   "execution_count": 4,
   "id": "6260be8c",
   "metadata": {},
   "outputs": [
    {
     "name": "stdout",
     "output_type": "stream",
     "text": [
      "maxTruth:  1.4995109671220415\n",
      "true hist:  [1299 2873 2378 1570  969  560  235   80    0    0]\n",
      "total true hist:  9964\n",
      "bins1:  [0.  0.2 0.4 0.6 0.8 1.  1.2 1.4 1.6 1.8 2. ]\n",
      "both hist:  [108 488 481 348 211 118  41  21   0   0]\n",
      "total both hist:  1816\n",
      "bins2:  [0.  0.2 0.4 0.6 0.8 1.  1.2 1.4 1.6 1.8 2. ]\n",
      "hist_ratio:  [0.08314088 0.16985729 0.20227082 0.22165605 0.21775026 0.21071429\n",
      " 0.17446809 0.2625            nan        nan]\n",
      "hist_ratio: [0.08314088 0.16985729 0.20227082 0.22165605 0.21775026 0.21071429\n",
      " 0.17446809 0.2625     0.         0.        ]\n",
      "sum hist ratio:  1.5423576652130153\n"
     ]
    },
    {
     "data": {
      "text/plain": [
       "<matplotlib.patches.StepPatch at 0x2b4fcb877520>"
      ]
     },
     "execution_count": 4,
     "metadata": {},
     "output_type": "execute_result"
    },
    {
     "data": {
      "image/png": "[encoded data removed]",
      "text/plain": [
       "<Figure size 432x288 with 1 Axes>"
      ]
     },
     "metadata": {
      "needs_background": "light"
     },
     "output_type": "display_data"
    }
   ],
   "source": [
    "numberBins = 10\n",
    "maxTruth = np.max(true_arr)\n",
    "print(\"maxTruth: \", maxTruth)\n",
    "\n",
    "np.seterr(divide='ignore', invalid='ignore')\n",
    "binEdgeRange = (0, 2)\n",
    "\n",
    "# Create histograms\n",
    "hist1, bins1 = np.histogram(true_arr, bins=numberBins, range=binEdgeRange)\n",
    "hist2, bins2 = np.histogram(trueAndReco_arr, bins=numberBins, range=binEdgeRange)\n",
    "\n",
    "if len(hist1) != len(hist2):\n",
    "    raise ValueError(\"Histograms must have the same number of bins\")\n",
    "    \n",
    "print(\"true hist: \", hist1)\n",
    "print(\"total true hist: \", np.sum(hist1) )\n",
    "print(\"bins1: \", bins1)\n",
    "print(\"both hist: \", hist2)\n",
    "print(\"total both hist: \", np.sum(hist2) )\n",
    "print(\"bins2: \", bins2)\n",
    "\n",
    "    \n",
    "# Divide histograms\n",
    "hist_ratio = hist2 / hist1\n",
    "\n",
    "print(\"hist_ratio: \", hist_ratio)\n",
    "\n",
    "# Handle division by zero\n",
    "hist_ratio = np.nan_to_num(hist_ratio)  # Replace NaN with 0 or another value\n",
    "\n",
    "print(\"hist_ratio:\", hist_ratio)\n",
    "print(\"sum hist ratio: \", np.sum(hist_ratio) )\n",
    "\n",
    "ax = plt.figure().gca()\n",
    "ax.yaxis.get_major_locator().set_params(integer=True)\n",
    "plt.stairs(hist_ratio, bins1, label=\"1.3e21 POT (data, all runs)\")"
   ]
  },
  {
   "cell_type": "code",
   "execution_count": 5,
   "id": "2c69d484",
   "metadata": {},
   "outputs": [
    {
     "name": "stdout",
     "output_type": "stream",
     "text": [
      "maxTruth:  1.4980952427457646\n",
      "reco hist:  [ 0  0  0  0  3 10 23 16 30 26 37 49 33 50 43 54 58 39 53 72 52 41 47 57\n",
      " 65 41 43 55 37 43 30 38 42 34 37 40 38 31 34 24 28 26 27 19 21 18 13 25\n",
      " 19 15 12 19 11 12 16 11  9  9  9 10  8  4  6  5  3  2  3  2  3  5  7  1\n",
      "  5  3  5  0  0  0  0  0  0  0  0  0  0  0  0  0  0  0  0  0  0  0  0  0\n",
      "  0  0  0  0]\n",
      "total reco hist:  1816\n",
      "bins1:  [0.   0.02 0.04 0.06 0.08 0.1  0.12 0.14 0.16 0.18 0.2  0.22 0.24 0.26\n",
      " 0.28 0.3  0.32 0.34 0.36 0.38 0.4  0.42 0.44 0.46 0.48 0.5  0.52 0.54\n",
      " 0.56 0.58 0.6  0.62 0.64 0.66 0.68 0.7  0.72 0.74 0.76 0.78 0.8  0.82\n",
      " 0.84 0.86 0.88 0.9  0.92 0.94 0.96 0.98 1.   1.02 1.04 1.06 1.08 1.1\n",
      " 1.12 1.14 1.16 1.18 1.2  1.22 1.24 1.26 1.28 1.3  1.32 1.34 1.36 1.38\n",
      " 1.4  1.42 1.44 1.46 1.48 1.5  1.52 1.54 1.56 1.58 1.6  1.62 1.64 1.66\n",
      " 1.68 1.7  1.72 1.74 1.76 1.78 1.8  1.82 1.84 1.86 1.88 1.9  1.92 1.94\n",
      " 1.96 1.98 2.  ]\n",
      "both hist:  [ 0  0  0  0  3 10 23 16 30 26 37 49 33 50 43 54 58 39 53 72 52 41 47 57\n",
      " 65 41 43 55 37 43 30 38 42 34 37 40 38 31 34 24 28 26 27 19 21 18 13 25\n",
      " 19 15 12 19 11 12 16 11  9  9  9 10  8  4  6  5  3  2  3  2  3  5  7  1\n",
      "  5  3  5  0  0  0  0  0  0  0  0  0  0  0  0  0  0  0  0  0  0  0  0  0\n",
      "  0  0  0  0]\n",
      "total both hist:  1816\n",
      "bins2:  [0.   0.02 0.04 0.06 0.08 0.1  0.12 0.14 0.16 0.18 0.2  0.22 0.24 0.26\n",
      " 0.28 0.3  0.32 0.34 0.36 0.38 0.4  0.42 0.44 0.46 0.48 0.5  0.52 0.54\n",
      " 0.56 0.58 0.6  0.62 0.64 0.66 0.68 0.7  0.72 0.74 0.76 0.78 0.8  0.82\n",
      " 0.84 0.86 0.88 0.9  0.92 0.94 0.96 0.98 1.   1.02 1.04 1.06 1.08 1.1\n",
      " 1.12 1.14 1.16 1.18 1.2  1.22 1.24 1.26 1.28 1.3  1.32 1.34 1.36 1.38\n",
      " 1.4  1.42 1.44 1.46 1.48 1.5  1.52 1.54 1.56 1.58 1.6  1.62 1.64 1.66\n",
      " 1.68 1.7  1.72 1.74 1.76 1.78 1.8  1.82 1.84 1.86 1.88 1.9  1.92 1.94\n",
      " 1.96 1.98 2.  ]\n",
      "hist_ratio:  [nan nan nan nan  1.  1.  1.  1.  1.  1.  1.  1.  1.  1.  1.  1.  1.  1.\n",
      "  1.  1.  1.  1.  1.  1.  1.  1.  1.  1.  1.  1.  1.  1.  1.  1.  1.  1.\n",
      "  1.  1.  1.  1.  1.  1.  1.  1.  1.  1.  1.  1.  1.  1.  1.  1.  1.  1.\n",
      "  1.  1.  1.  1.  1.  1.  1.  1.  1.  1.  1.  1.  1.  1.  1.  1.  1.  1.\n",
      "  1.  1.  1. nan nan nan nan nan nan nan nan nan nan nan nan nan nan nan\n",
      " nan nan nan nan nan nan nan nan nan nan]\n",
      "hist_ratio: [0. 0. 0. 0. 1. 1. 1. 1. 1. 1. 1. 1. 1. 1. 1. 1. 1. 1. 1. 1. 1. 1. 1. 1.\n",
      " 1. 1. 1. 1. 1. 1. 1. 1. 1. 1. 1. 1. 1. 1. 1. 1. 1. 1. 1. 1. 1. 1. 1. 1.\n",
      " 1. 1. 1. 1. 1. 1. 1. 1. 1. 1. 1. 1. 1. 1. 1. 1. 1. 1. 1. 1. 1. 1. 1. 1.\n",
      " 1. 1. 1. 0. 0. 0. 0. 0. 0. 0. 0. 0. 0. 0. 0. 0. 0. 0. 0. 0. 0. 0. 0. 0.\n",
      " 0. 0. 0. 0.]\n",
      "sum hist ratio:  71.0\n"
     ]
    },
    {
     "data": {
      "text/plain": [
       "<matplotlib.patches.StepPatch at 0x2b4fcb973370>"
      ]
     },
     "execution_count": 5,
     "metadata": {},
     "output_type": "execute_result"
    },
    {
     "data": {
      "image/png": "[encoded data removed]",
      "text/plain": [
       "<Figure size 432x288 with 1 Axes>"
      ]
     },
     "metadata": {
      "needs_background": "light"
     },
     "output_type": "display_data"
    }
   ],
   "source": [
    "numberBins = 100\n",
    "maxReco = np.max(reco_arr)\n",
    "print(\"maxTruth: \", maxReco)\n",
    "\n",
    "np.seterr(divide='ignore', invalid='ignore')\n",
    "binEdgeRange = (0, 2)\n",
    "\n",
    "# Create histograms\n",
    "hist1, bins1 = np.histogram(reco_arr, bins=numberBins, range=binEdgeRange)\n",
    "hist2, bins2 = np.histogram(trueAndReco_arr, bins=numberBins, range=binEdgeRange)\n",
    "\n",
    "if len(hist1) != len(hist2):\n",
    "    raise ValueError(\"Histograms must have the same number of bins\")\n",
    "    \n",
    "print(\"reco hist: \", hist1)\n",
    "print(\"total reco hist: \", np.sum(hist1) )\n",
    "print(\"bins1: \", bins1)\n",
    "print(\"both hist: \", hist2)\n",
    "print(\"total both hist: \", np.sum(hist2) )\n",
    "print(\"bins2: \", bins2)\n",
    "\n",
    "    \n",
    "# Divide histograms\n",
    "hist_ratio = hist2 / hist1\n",
    "\n",
    "print(\"hist_ratio: \", hist_ratio)\n",
    "\n",
    "# Handle division by zero\n",
    "hist_ratio = np.nan_to_num(hist_ratio)  # Replace NaN with 0 or another value\n",
    "\n",
    "print(\"hist_ratio:\", hist_ratio)\n",
    "print(\"sum hist ratio: \", np.sum(hist_ratio) )\n",
    "\n",
    "ax = plt.figure().gca()\n",
    "ax.yaxis.get_major_locator().set_params(integer=True)\n",
    "plt.stairs(hist_ratio, bins1, label=\"1.3e21 POT (data, all runs)\")"
   ]
  },
  {
   "cell_type": "code",
   "execution_count": 6,
   "id": "95f0fb69",
   "metadata": {},
   "outputs": [
    {
     "ename": "AttributeError",
     "evalue": "'list' object has no attribute 'Draw'",
     "output_type": "error",
     "traceback": [
      "\u001b[0;31m---------------------------------------------------------------------------\u001b[0m",
      "\u001b[0;31mAttributeError\u001b[0m                            Traceback (most recent call last)",
      "Input \u001b[0;32mIn [6]\u001b[0m, in \u001b[0;36m<module>\u001b[0;34m\u001b[0m\n\u001b[1;32m      1\u001b[0m c1 \u001b[38;5;241m=\u001b[39m TCanvas(\u001b[38;5;124m\"\u001b[39m\u001b[38;5;124mc1\u001b[39m\u001b[38;5;124m\"\u001b[39m,\u001b[38;5;124m\"\u001b[39m\u001b[38;5;124mc1\u001b[39m\u001b[38;5;124m\"\u001b[39m,\u001b[38;5;241m720\u001b[39m,\u001b[38;5;241m152\u001b[39m,\u001b[38;5;241m682\u001b[39m,\u001b[38;5;241m505\u001b[39m)\n\u001b[1;32m      2\u001b[0m c1\u001b[38;5;241m.\u001b[39mcd()\n\u001b[0;32m----> 3\u001b[0m \u001b[43mh_true\u001b[49m\u001b[38;5;241;43m.\u001b[39;49m\u001b[43mDraw\u001b[49m(\u001b[38;5;124m\"\u001b[39m\u001b[38;5;124m\"\u001b[39m)\n\u001b[1;32m      5\u001b[0m c1\u001b[38;5;241m.\u001b[39mDraw()\n",
      "\u001b[0;31mAttributeError\u001b[0m: 'list' object has no attribute 'Draw'"
     ]
    }
   ],
   "source": [
    "c1 = TCanvas(\"c1\",\"c1\",720,152,682,505)\n",
    "c1.cd()\n",
    "h_true.Draw(\"\")\n",
    "\n",
    "c1.Draw()"
   ]
  },
  {
   "cell_type": "code",
   "execution_count": null,
   "id": "bf440f09",
   "metadata": {},
   "outputs": [],
   "source": [
    "targetPOT = 1.3e21\n",
    "simPOT = 4.68e20 # this is for run 1\n",
    "\n",
    "h_trueAndReco.Scale(targetPOT/simPOT)\n",
    "h_true.Scale(targetPOT/simPOT)"
   ]
  },
  {
   "cell_type": "code",
   "execution_count": null,
   "id": "3fcd245a",
   "metadata": {},
   "outputs": [],
   "source": [
    "h_eff = h_trueAndReco.Clone(\"h_eff\")\n",
    "h_eff.Divide(h_true)\n",
    "\n",
    "h_eff.GetXaxis().SetTitle(\"Truth Muon Momentum [GeV]\")\n",
    "\n",
    "canvas = TCanvas(\"canvas\",\"canvas\",720,152,682,505)\n",
    "canvas.cd()\n",
    "h_eff.Draw(\"\")\n",
    "\n",
    "canvas.Draw()\n",
    "\n",
    "#outfile = rt.TFile(\"plots.root\",\"RECREATE\")\n",
    "#canvas.Write()\n",
    "\n"
   ]
  },
  {
   "cell_type": "code",
   "execution_count": null,
   "id": "ea0acfed",
   "metadata": {},
   "outputs": [],
   "source": []
  }
 ],
 "metadata": {
  "kernelspec": {
   "display_name": "Python 3",
   "language": "python",
   "name": "python3"
  },
  "language_info": {
   "codemirror_mode": {
    "name": "ipython",
    "version": 3
   },
   "file_extension": ".py",
   "mimetype": "text/x-python",
   "name": "python",
   "nbconvert_exporter": "python",
   "pygments_lexer": "ipython3",
   "version": "3.8.5"
  }
 },
 "nbformat": 4,
 "nbformat_minor": 5
}
