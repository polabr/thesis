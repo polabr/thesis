{
 "cells": [
  {
   "cell_type": "code",
   "execution_count": 1,
   "id": "36390468",
   "metadata": {},
   "outputs": [],
   "source": [
    "%matplotlib notebook"
   ]
  },
  {
   "cell_type": "code",
   "execution_count": 2,
   "id": "23e7b6f1",
   "metadata": {},
   "outputs": [
    {
     "name": "stdout",
     "output_type": "stream",
     "text": [
      "Welcome to JupyROOT 6.22/09\n"
     ]
    }
   ],
   "source": [
    "import ROOT as rt\n",
    "from ROOT import TFile, TTree, TCanvas, TH2D, TH1F\n",
    "import numpy as np\n",
    "import matplotlib.pyplot as plt"
   ]
  },
  {
   "cell_type": "code",
   "execution_count": 3,
   "id": "1c804c1e",
   "metadata": {},
   "outputs": [
    {
     "name": "stdout",
     "output_type": "stream",
     "text": [
      "10913\n"
     ]
    }
   ],
   "source": [
    "f = TFile(\"selectedEventsTrueRecoBoth_withTKI_test113024.root\",\"READ\") \n",
    "\n",
    "t = f.Get(\"selectedEvents\")\n",
    "\n",
    "entries = t.GetEntries()\n",
    "print(entries)"
   ]
  },
  {
   "cell_type": "code",
   "execution_count": 4,
   "id": "3bacad47",
   "metadata": {},
   "outputs": [],
   "source": [
    "h_trueAndReco = rt.TH1F(\"h_trueAndReco\",\"Efficiency\",100, -1, 1)\n",
    "h_true = rt.TH1F(\"h_true\",\"True\",100, -1, 1)\n",
    "h_reco = rt.TH1F(\"h_reco\",\"Reco\",100, -1, 1)"
   ]
  },
  {
   "cell_type": "code",
   "execution_count": 5,
   "id": "8f3a9245",
   "metadata": {},
   "outputs": [],
   "source": [
    "# making plots in terms of recoSel_delPTT_\n",
    "\n",
    "for e in range(entries):\n",
    "\n",
    "    t.GetEntry(e)\n",
    "    \n",
    "    if (t.passedSel_ == 1) or (t.passedSel_ == 3): # passes truth selection\n",
    "        h_true.Fill(t.recoSel_delPTT_, t.weight_)\n",
    "        if (t.passedSel_ == 2) or (t.passedSel_ == 3): # passes reco selection as well (both selections)\n",
    "            h_trueAndReco.Fill(t.recoSel_delPTT_, t.weight_)\n",
    "    if (t.passedSel_ == 2) or (t.passedSel_ == 3): # passes reco selection\n",
    "        h_reco.Fill(t.recoSel_delPTT_, t.weight_)"
   ]
  },
  {
   "cell_type": "code",
   "execution_count": 6,
   "id": "80e4fa72",
   "metadata": {},
   "outputs": [
    {
     "data": {
      "image/png": "[encoded data removed]",
      "text/plain": [
       "<IPython.core.display.Image object>"
      ]
     },
     "metadata": {},
     "output_type": "display_data"
    }
   ],
   "source": [
    "c1 = TCanvas(\"c1\",\"c1\",720,152,682,505)\n",
    "c1.cd()\n",
    "h_reco.Draw(\"\")\n",
    "\n",
    "c1.Draw()"
   ]
  },
  {
   "cell_type": "code",
   "execution_count": null,
   "id": "bafff4be",
   "metadata": {},
   "outputs": [],
   "source": []
  }
 ],
 "metadata": {
  "kernelspec": {
   "display_name": "Python 3",
   "language": "python",
   "name": "python3"
  },
  "language_info": {
   "codemirror_mode": {
    "name": "ipython",
    "version": 3
   },
   "file_extension": ".py",
   "mimetype": "text/x-python",
   "name": "python",
   "nbconvert_exporter": "python",
   "pygments_lexer": "ipython3",
   "version": "3.8.5"
  }
 },
 "nbformat": 4,
 "nbformat_minor": 5
}
