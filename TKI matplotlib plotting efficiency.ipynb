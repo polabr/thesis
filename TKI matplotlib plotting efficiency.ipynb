{
 "cells": [
  {
   "cell_type": "code",
   "execution_count": 1,
   "id": "d891b0a0",
   "metadata": {},
   "outputs": [
    {
     "name": "stdout",
     "output_type": "stream",
     "text": [
      "Welcome to JupyROOT 6.22/09\n"
     ]
    }
   ],
   "source": [
    "import numpy as np\n",
    "import matplotlib.pyplot as plt\n",
    "\n",
    "import ROOT as rt\n",
    "from ROOT import TFile, TTree, TCanvas, TH2D, TH1F\n",
    "from scipy import constants"
   ]
  },
  {
   "cell_type": "code",
   "execution_count": 2,
   "id": "68a9a0ed",
   "metadata": {},
   "outputs": [
    {
     "name": "stdout",
     "output_type": "stream",
     "text": [
      "10913\n"
     ]
    }
   ],
   "source": [
    "f = TFile(\"selectedEventsTrueRecoBoth_withTrueTrkDir_withParticleEs_111124.root\",\"READ\")\n",
    "t = f.Get(\"selectedEvents\")\n",
    "\n",
    "entries = t.GetEntries()\n",
    "print(entries)"
   ]
  },
  {
   "cell_type": "code",
   "execution_count": 3,
   "id": "ad4e9ff0",
   "metadata": {},
   "outputs": [
    {
     "name": "stdout",
     "output_type": "stream",
     "text": [
      "0.48742047119140625\n",
      "0.053709817209715204\n",
      "-0.13113712865486582\n",
      "0.21879997807629656\n",
      "z:  [ 0.92539155  0.3790125  -0.        ]\n"
     ]
    }
   ],
   "source": [
    "t.GetEntry(5)\n",
    "\n",
    "def getTransverseAxis(eNu, pxMu, pyMu, pzMu):\n",
    "    pV = np.array([0, 0, eNu])\n",
    "    pMu = np.array([pxMu, pyMu, pzMu])\n",
    "    z = np.cross(pV, pMu)\n",
    "    magZ = np.sqrt( z[0]**2 + z[1]**2 + z[2]**2 )\n",
    "    #return z / magZ\n",
    "    return z / np.linalg.norm(z) # same as my magZ eqn above\n",
    "\n",
    "print(t.recoSel_recoNuE_)\n",
    "print(t.recoSel_trkDirMuX_)\n",
    "print(t.recoSel_trkDirMuY_)\n",
    "print(t.recoSel_trkDirMuZ_)\n",
    "\n",
    "z = getTransverseAxis(t.recoSel_recoNuE_,t.recoSel_trkDirMuX_,t.recoSel_trkDirMuY_,t.recoSel_trkDirMuZ_)\n",
    "\n",
    "print(\"z: \", z )"
   ]
  },
  {
   "cell_type": "code",
   "execution_count": 4,
   "id": "1e011d90",
   "metadata": {},
   "outputs": [
    {
     "name": "stdout",
     "output_type": "stream",
     "text": [
      "[-0.10935544 -0.04122055 -0.01128636]\n",
      "[-0.21189227  0.00324651  0.37416956]\n",
      "-0.3116725511591243\n"
     ]
    }
   ],
   "source": [
    "t.GetEntry(5)\n",
    "\n",
    "pPi = np.array([t.recoSel_trkDirPiX_, t.recoSel_trkDirPiY_, t.recoSel_trkDirPiZ_])\n",
    "pP = np.array([t.recoSel_trkDirPX_, t.recoSel_trkDirPY_, t.recoSel_trkDirPZ_])\n",
    "print(pPi)\n",
    "print(pP)\n",
    "\n",
    "# 1st TKI observable, double-transverse momentum imbalance\n",
    "def delPTT(z, pPi, pP): \n",
    "    pPiTT = np.dot(z,pPi)\n",
    "    pPTT = np.dot(z,pP)\n",
    "    return pPiTT + pPTT\n",
    "\n",
    "print( delPTT(z, pPi, pP) )"
   ]
  },
  {
   "cell_type": "code",
   "execution_count": 5,
   "id": "6ec58edf",
   "metadata": {},
   "outputs": [
    {
     "name": "stdout",
     "output_type": "stream",
     "text": [
      "[-0.26753789 -0.16911117  0.        ]\n"
     ]
    }
   ],
   "source": [
    "t.GetEntry(5)\n",
    "\n",
    "# sum of transverse momenta of the 3 particles\n",
    "def delPT(pxPi, pxP, pxMu, pyPi, pyP, pyMu): \n",
    "    pTMu = np.array([pxMu, pyMu, 0])\n",
    "    pTP = np.array([pxP, pyP, 0])\n",
    "    pTPi = np.array([pxPi, pyPi, 0])\n",
    "    return pTMu + pTPi + pTP\n",
    "\n",
    "delPT_test = delPT(t.recoSel_trkDirPiX_, t.recoSel_trkDirPX_, t.recoSel_trkDirMuX_, t.recoSel_trkDirPiY_, t.recoSel_trkDirPY_, t.recoSel_trkDirMuY_)\n",
    "print(delPT_test)"
   ]
  },
  {
   "cell_type": "code",
   "execution_count": 6,
   "id": "34ae2366",
   "metadata": {},
   "outputs": [
    {
     "name": "stdout",
     "output_type": "stream",
     "text": [
      "pL_test:  -0.006847073443509544\n",
      "pLGKI_test:  -0.006760224706575335\n"
     ]
    }
   ],
   "source": [
    "t.GetEntry(5)\n",
    "\n",
    "epsilon = 0.0309\n",
    "\n",
    "# longitudinal component, the long way\n",
    "def pL(pzP, pzMu, pzPi, eP, eMu, ePi, delPT): \n",
    "    mP = constants.physical_constants['proton mass energy equivalent in MeV'][0]/1000 \n",
    "    #print(\"mP: \", mP)\n",
    "    mN = constants.physical_constants['neutron mass energy equivalent in MeV'][0]/1000\n",
    "    #print(\"mN: \", mN)\n",
    "    B = 0.34381\n",
    "    mA = 22*mN + 18*mP - B\n",
    "    mA1 = mA - mN + epsilon\n",
    "    del2 = np.dot(delPT, delPT)\n",
    "    #pLP = np.array([0, 0, pzP])\n",
    "    #pLMu = np.array([0, 0, pzMu])\n",
    "    #pLPi = np.array([0, 0, pzPi])\n",
    "    parens = mA + pzMu + pzPi + pzP - eMu - ePi - eP\n",
    "    return 0.5*(parens) - 0.5*((del2+mA1**2)/(parens))\n",
    "\n",
    "pL_test = pL(t.recoSel_trkDirPZ_, t.recoSel_trkDirMuZ_, t.recoSel_trkDirPiZ_, t.recoSel_eP_, t.recoSel_eMu_, t.recoSel_ePi_, delPT_test)\n",
    "#print(t.pzP_)\n",
    "print(\"pL_test: \", pL_test)\n",
    "\n",
    "def pLGKI(pzP, pzMu, pzPi, eP, eMu, ePi):\n",
    "    pRest = constants.physical_constants['proton mass energy equivalent in MeV'][0]/1000\n",
    "    piRest = 139.57/1000 # GeV\n",
    "    #print(\"piRest:\", piRest)\n",
    "    #Ecal = eMu + (eP-pRest) + (ePi-piRest) + epsilon\n",
    "    Ecal = eMu + (eP-pRest) + ePi + epsilon\n",
    "    return pzMu + pzP + pzPi - Ecal\n",
    "\n",
    "pLGKI_test = pLGKI(t.recoSel_trkDirPZ_, t.recoSel_trkDirMuZ_, t.recoSel_trkDirPiZ_, t.recoSel_eP_, t.recoSel_eMu_, t.recoSel_ePi_)\n",
    "print(\"pLGKI_test: \", pLGKI_test)"
   ]
  },
  {
   "cell_type": "code",
   "execution_count": 7,
   "id": "92d5a16a",
   "metadata": {},
   "outputs": [
    {
     "name": "stdout",
     "output_type": "stream",
     "text": [
      "1.7457572653823448\n"
     ]
    }
   ],
   "source": [
    "# 3rd TKI observable, boosting angle\n",
    "def delAlphaT(pxMu, pyMu, delPT): \n",
    "    pTMu = np.array([pxMu, pyMu, 0])\n",
    "    magPTMu = np.sqrt( pTMu[0]**2 + pTMu[1]**2 + pTMu[2]**2 )\n",
    "    magDelPT = np.sqrt( delPT[0]**2 + delPT[1]**2 + delPT[2]**2 )\n",
    "    dot = np.dot(-pTMu,delPT)\n",
    "    return np.arccos(dot / (magPTMu * magDelPT))\n",
    "\n",
    "delAlphaT_test = delAlphaT(t.recoSel_trkDirMuX_, t.recoSel_trkDirMuY_, delPT_test)\n",
    "print(delAlphaT_test)"
   ]
  },
  {
   "cell_type": "code",
   "execution_count": 8,
   "id": "5af8dbfa",
   "metadata": {},
   "outputs": [
    {
     "name": "stdout",
     "output_type": "stream",
     "text": [
      "len(h_true):  9964\n",
      "len(h_trueAndReco):  483\n",
      "9977.248706321412\n",
      "480.3657590386961\n",
      "overall efficiency:  4.814611454301472\n"
     ]
    }
   ],
   "source": [
    "# make efficiency plot in terms of: truth_pN\n",
    "\n",
    "h_plotvar_true = []\n",
    "h_plotvar_trueAndReco = []\n",
    "h_plotvar_reco = []\n",
    "\n",
    "truth_weights = []\n",
    "both_weights = []\n",
    "\n",
    "completeness = 0.5\n",
    "\n",
    "for e in range(entries):\n",
    "\n",
    "    t.GetEntry(e)\n",
    "    \n",
    "    if (t.passedSel_ == 1) or (t.passedSel_ == 3): # passes truth selection\n",
    "        \n",
    "        pPi = np.array([t.truthSel_pxPi_, t.truthSel_pyPi_, t.truthSel_pzPi_])\n",
    "        pP = np.array([t.truthSel_pxP_, t.truthSel_pyP_, t.truthSel_pzP_])\n",
    "    \n",
    "        z = getTransverseAxis(t.truthSel_eNu_,t.truthSel_pxMu_,t.truthSel_pyMu_,t.truthSel_pzMu_)\n",
    "        \n",
    "        truth_delPTT = delPTT(z, pPi, pP)\n",
    "        \n",
    "        truth_delPT_entry = delPT(t.truthSel_pxPi_, t.truthSel_pxP_, t.truthSel_pxMu_, t.truthSel_pyPi_, t.truthSel_pyP_, t.truthSel_pyMu_)\n",
    "\n",
    "        truth_pL_entry = pL(t.truthSel_pzP_, t.truthSel_pzMu_, t.truthSel_pzPi_, t.truthSel_eP_, t.truthSel_eMu_, t.truthSel_ePi_, truth_delPT_entry)\n",
    "        truth_pN = np.sqrt( np.dot(truth_delPT_entry, truth_delPT_entry) + np.dot(truth_pL_entry, truth_pL_entry) )\n",
    "\n",
    "        truth_delAlphaT_entry = delAlphaT(t.truthSel_pxMu_, t.truthSel_pyMu_, truth_delPT_entry)\n",
    "    \n",
    "        h_plotvar_true.append(truth_delPTT)\n",
    "        \n",
    "        truth_weights.append(t.weight_)\n",
    "        \n",
    "    #if (t.passedSel_ == 3) and (t.recoSel_trackCompMu_ > completeness) and (t.recoSel_trackCompPi_ > completeness) and (t.recoSel_trackCompP_ > completeness): # passes both reco and truth selection\n",
    "    if (t.passedSel_ == 3) and (t.recoSel_trackCompMu_ > completeness) and (t.recoSel_trackCompPi_ > completeness) and (t.recoSel_trackCompP_ > completeness) and (t.recoSel_recoContained_==2): # passes both reco and truth selection\n",
    "\n",
    "        \n",
    "        h_plotvar_trueAndReco.append(truth_delPTT)\n",
    "        \n",
    "        both_weights.append(t.weight_)\n",
    "        \n",
    "        \n",
    "#    if (t.passedSel_ == 2) or (t.passedSel_ == 3): # passes reco selection\n",
    "#        h_reco.append(t.truthSel_truthMuonMom_)\n",
    "            \n",
    "#print(\"h_true: \", h_true)\n",
    "print(\"len(h_true): \", len(h_plotvar_true))\n",
    "\n",
    "#print(\"h_trueAndReco: \", h_trueAndReco)\n",
    "print(\"len(h_trueAndReco): \", len(h_plotvar_trueAndReco))\n",
    "\n",
    "#print(\"len(h_reco): \", len(h_reco))\n",
    "\n",
    "true_arr = np.asarray(h_plotvar_true)\n",
    "trueAndReco_arr = np.asarray(h_plotvar_trueAndReco)\n",
    "truth_weight_arr = np.asarray(truth_weights)\n",
    "both_weight_arr = np.asarray(both_weights)\n",
    "\n",
    "print(np.sum(truth_weight_arr))\n",
    "print(np.sum(both_weight_arr))\n",
    "\n",
    "print(\"overall efficiency: \", (np.sum(both_weight_arr)) / (np.sum(truth_weight_arr))*100)\n"
   ]
  },
  {
   "cell_type": "code",
   "execution_count": 9,
   "id": "6260be8c",
   "metadata": {},
   "outputs": [
    {
     "name": "stdout",
     "output_type": "stream",
     "text": [
      "maxTruth:  0.9874523079886299\n",
      "true hist:  [   5   38  276 1142 3611 3477 1102  279   30    4]\n",
      "total true hist:  9964\n",
      "bins1:  [-1.  -0.8 -0.6 -0.4 -0.2  0.   0.2  0.4  0.6  0.8  1. ]\n",
      "both hist:  [  0   2  11  45 171 192  47  12   2   1]\n",
      "total both hist:  483\n",
      "bins2:  [-1.  -0.8 -0.6 -0.4 -0.2  0.   0.2  0.4  0.6  0.8  1. ]\n",
      "hist_ratio:  [0.         0.05263158 0.03985507 0.03940455 0.0473553  0.05522002\n",
      " 0.04264973 0.04301075 0.06666667 0.25      ]\n",
      "hist_ratio: [0.         0.05263158 0.03985507 0.03940455 0.0473553  0.05522002\n",
      " 0.04264973 0.04301075 0.06666667 0.25      ]\n",
      "sum hist ratio:  0.6367936724450867\n"
     ]
    },
    {
     "data": {
      "text/plain": [
       "Text(0.5, 1.0, 'Efficiency in delPTT')"
      ]
     },
     "execution_count": 9,
     "metadata": {},
     "output_type": "execute_result"
    },
    {
     "data": {
      "image/png": "[encoded data removed]",
      "text/plain": [
       "<Figure size 432x288 with 1 Axes>"
      ]
     },
     "metadata": {
      "needs_background": "light"
     },
     "output_type": "display_data"
    }
   ],
   "source": [
    "numberBins = 10\n",
    "maxTruth = np.max(true_arr)\n",
    "print(\"maxTruth: \", maxTruth)\n",
    "\n",
    "np.seterr(divide='ignore', invalid='ignore')\n",
    "binEdgeRange = (-1, 1)\n",
    "\n",
    "#true_arr = true_arr*(180/np.pi)\n",
    "#trueAndReco_arr = trueAndReco_arr*(180/np.pi)\n",
    "\n",
    "# Create histograms\n",
    "hist1, bins1 = np.histogram(true_arr, bins=numberBins, range=binEdgeRange)\n",
    "hist2, bins2 = np.histogram(trueAndReco_arr, bins=numberBins, range=binEdgeRange)\n",
    "\n",
    "if len(hist1) != len(hist2):\n",
    "    raise ValueError(\"Histograms must have the same number of bins\")\n",
    "    \n",
    "print(\"true hist: \", hist1)\n",
    "print(\"total true hist: \", np.sum(hist1) )\n",
    "print(\"bins1: \", bins1)\n",
    "print(\"both hist: \", hist2)\n",
    "print(\"total both hist: \", np.sum(hist2) )\n",
    "print(\"bins2: \", bins2)\n",
    "\n",
    "    \n",
    "# Divide histograms\n",
    "hist_ratio = hist2 / hist1\n",
    "\n",
    "print(\"hist_ratio: \", hist_ratio)\n",
    "\n",
    "# Handle division by zero\n",
    "hist_ratio = np.nan_to_num(hist_ratio)  # Replace NaN with 0 or another value\n",
    "\n",
    "print(\"hist_ratio:\", hist_ratio)\n",
    "print(\"sum hist ratio: \", np.sum(hist_ratio) )\n",
    "\n",
    "ax = plt.figure().gca()\n",
    "ax.yaxis.get_major_locator().set_params(integer=True)\n",
    "plt.stairs(hist_ratio, bins1, label=\"1.3e21 POT (data, all runs)\")\n",
    "\n",
    "plt.xlabel('delPTT (GeV/c)')\n",
    "plt.ylabel('Efficiency')\n",
    "plt.title('Efficiency in delPTT')"
   ]
  },
  {
   "cell_type": "code",
   "execution_count": 10,
   "id": "2c69d484",
   "metadata": {},
   "outputs": [
    {
     "ename": "NameError",
     "evalue": "name 'reco_arr' is not defined",
     "output_type": "error",
     "traceback": [
      "\u001b[0;31m---------------------------------------------------------------------------\u001b[0m",
      "\u001b[0;31mNameError\u001b[0m                                 Traceback (most recent call last)",
      "Input \u001b[0;32mIn [10]\u001b[0m, in \u001b[0;36m<module>\u001b[0;34m\u001b[0m\n\u001b[1;32m      1\u001b[0m numberBins \u001b[38;5;241m=\u001b[39m \u001b[38;5;241m100\u001b[39m\n\u001b[0;32m----> 2\u001b[0m maxReco \u001b[38;5;241m=\u001b[39m np\u001b[38;5;241m.\u001b[39mmax(\u001b[43mreco_arr\u001b[49m)\n\u001b[1;32m      3\u001b[0m \u001b[38;5;28mprint\u001b[39m(\u001b[38;5;124m\"\u001b[39m\u001b[38;5;124mmaxTruth: \u001b[39m\u001b[38;5;124m\"\u001b[39m, maxReco)\n\u001b[1;32m      5\u001b[0m np\u001b[38;5;241m.\u001b[39mseterr(divide\u001b[38;5;241m=\u001b[39m\u001b[38;5;124m'\u001b[39m\u001b[38;5;124mignore\u001b[39m\u001b[38;5;124m'\u001b[39m, invalid\u001b[38;5;241m=\u001b[39m\u001b[38;5;124m'\u001b[39m\u001b[38;5;124mignore\u001b[39m\u001b[38;5;124m'\u001b[39m)\n",
      "\u001b[0;31mNameError\u001b[0m: name 'reco_arr' is not defined"
     ]
    }
   ],
   "source": [
    "numberBins = 100\n",
    "maxReco = np.max(reco_arr)\n",
    "print(\"maxTruth: \", maxReco)\n",
    "\n",
    "np.seterr(divide='ignore', invalid='ignore')\n",
    "binEdgeRange = (-1, 1)\n",
    "\n",
    "# Create histograms\n",
    "hist1, bins1 = np.histogram(reco_arr, bins=numberBins, range=binEdgeRange)\n",
    "hist2, bins2 = np.histogram(trueAndReco_arr, bins=numberBins, range=binEdgeRange)\n",
    "\n",
    "if len(hist1) != len(hist2):\n",
    "    raise ValueError(\"Histograms must have the same number of bins\")\n",
    "    \n",
    "print(\"reco hist: \", hist1)\n",
    "print(\"total reco hist: \", np.sum(hist1) )\n",
    "print(\"bins1: \", bins1)\n",
    "print(\"both hist: \", hist2)\n",
    "print(\"total both hist: \", np.sum(hist2) )\n",
    "print(\"bins2: \", bins2)\n",
    "\n",
    "    \n",
    "# Divide histograms\n",
    "hist_ratio = hist2 / hist1\n",
    "\n",
    "print(\"hist_ratio: \", hist_ratio)\n",
    "\n",
    "# Handle division by zero\n",
    "hist_ratio = np.nan_to_num(hist_ratio)  # Replace NaN with 0 or another value\n",
    "\n",
    "print(\"hist_ratio:\", hist_ratio)\n",
    "print(\"sum hist ratio: \", np.sum(hist_ratio) )\n",
    "\n",
    "ax = plt.figure().gca()\n",
    "ax.yaxis.get_major_locator().set_params(integer=True)\n",
    "plt.stairs(hist_ratio, bins1, label=\"1.3e21 POT (data, all runs)\")"
   ]
  },
  {
   "cell_type": "code",
   "execution_count": null,
   "id": "95f0fb69",
   "metadata": {},
   "outputs": [],
   "source": [
    "c1 = TCanvas(\"c1\",\"c1\",720,152,682,505)\n",
    "c1.cd()\n",
    "h_true.Draw(\"\")\n",
    "\n",
    "c1.Draw()"
   ]
  },
  {
   "cell_type": "code",
   "execution_count": null,
   "id": "bf440f09",
   "metadata": {},
   "outputs": [],
   "source": [
    "targetPOT = 1.3e21\n",
    "simPOT = 4.68e20 # this is for run 1\n",
    "\n",
    "h_trueAndReco.Scale(targetPOT/simPOT)\n",
    "h_true.Scale(targetPOT/simPOT)"
   ]
  },
  {
   "cell_type": "code",
   "execution_count": null,
   "id": "3fcd245a",
   "metadata": {},
   "outputs": [],
   "source": [
    "h_eff = h_trueAndReco.Clone(\"h_eff\")\n",
    "h_eff.Divide(h_true)\n",
    "\n",
    "h_eff.GetXaxis().SetTitle(\"Truth Muon Momentum [GeV]\")\n",
    "\n",
    "canvas = TCanvas(\"canvas\",\"canvas\",720,152,682,505)\n",
    "canvas.cd()\n",
    "h_eff.Draw(\"\")\n",
    "\n",
    "canvas.Draw()\n",
    "\n",
    "#outfile = rt.TFile(\"plots.root\",\"RECREATE\")\n",
    "#canvas.Write()\n",
    "\n"
   ]
  },
  {
   "cell_type": "code",
   "execution_count": null,
   "id": "ea0acfed",
   "metadata": {},
   "outputs": [],
   "source": []
  }
 ],
 "metadata": {
  "kernelspec": {
   "display_name": "Python 3",
   "language": "python",
   "name": "python3"
  },
  "language_info": {
   "codemirror_mode": {
    "name": "ipython",
    "version": 3
   },
   "file_extension": ".py",
   "mimetype": "text/x-python",
   "name": "python",
   "nbconvert_exporter": "python",
   "pygments_lexer": "ipython3",
   "version": "3.8.5"
  }
 },
 "nbformat": 4,
 "nbformat_minor": 5
}
