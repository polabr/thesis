{
 "cells": [
  {
   "cell_type": "code",
   "execution_count": 1,
   "id": "854fcda3",
   "metadata": {},
   "outputs": [],
   "source": [
    "%matplotlib notebook"
   ]
  },
  {
   "cell_type": "code",
   "execution_count": 2,
   "id": "06f1d3b4",
   "metadata": {},
   "outputs": [
    {
     "name": "stdout",
     "output_type": "stream",
     "text": [
      "Welcome to JupyROOT 6.22/09\n"
     ]
    }
   ],
   "source": [
    "import numpy as np\n",
    "import matplotlib.pyplot as plt\n",
    "import ROOT\n",
    "from ROOT import TFile, TTree, TCanvas, TH2D, TH1F"
   ]
  },
  {
   "cell_type": "code",
   "execution_count": 3,
   "id": "c63924ef",
   "metadata": {},
   "outputs": [
    {
     "name": "stdout",
     "output_type": "stream",
     "text": [
      "10913\n"
     ]
    }
   ],
   "source": [
    "f = TFile(\"selectedEventsTrueRecoBoth_091524.root\",\"READ\")\n",
    "t = f.Get(\"selectedEvents\")\n",
    "\n",
    "entries = t.GetEntries()\n",
    "print(entries)"
   ]
  },
  {
   "cell_type": "code",
   "execution_count": 4,
   "id": "c68fdd61",
   "metadata": {},
   "outputs": [
    {
     "name": "stdout",
     "output_type": "stream",
     "text": [
      "len(muMom_list) 9964\n",
      "len(recoMuMom_list) 2765\n",
      "truth muMom_arr:  [0.35580207 1.11460073 0.24795615 ... 0.72626835 0.17245526 0.65431151]\n",
      "truth muMom_arr.shape:  (9964,)\n",
      "recoMuMom_arr:  [0.41491445 0.14621555 0.26068203 ... 0.28078248 0.24077801 0.06025061]\n",
      "recoMuMom_arr.shape:  (2765,)\n",
      "This is how many events had all 3 particles reconstructed:  10913\n",
      "len of both mu mom:  1816\n"
     ]
    }
   ],
   "source": [
    "# grab particle momenta from truth selection\n",
    "trueMuMom_list = []\n",
    "truePiMom_list = []\n",
    "trueLPMom_list = []\n",
    "\n",
    "# grab particle momenta from reco selection\n",
    "recoMuMom_list = []\n",
    "recoPiMom_list = []\n",
    "recoLPMom_list = []\n",
    "\n",
    "# lists of events that passed both true and reco selection\n",
    "# containing the truth momentum values for each\n",
    "both_trueMuMom_list = []\n",
    "both_truePiMom_list = []\n",
    "both_trueLPMom_list = []\n",
    "\n",
    "weights_list = []\n",
    "\n",
    "# collect event entries that had no -1's\n",
    "passedIndices_list = []\n",
    "\n",
    "\n",
    "for e in range(entries):\n",
    "\n",
    "    t.GetEntry(e)\n",
    "    \n",
    "    # grab events that passed BOTH truth and reco selection \n",
    "    if (t.passedSel_ == 3):\n",
    "        \n",
    "        both_trueMuMom_list.append(t.truthSel_truthMuonMom_)\n",
    "        both_truePiMom_list.append(t.truthSel_truthPionMom_)\n",
    "        both_trueLPMom_list.append(t.truthSel_truthLProtonMom_)\n",
    "        \n",
    "    if (t.passedSel_ == 1) or (t.passedSel_ == 3):\n",
    "    \n",
    "        trueMuMom_list.append(t.truthSel_truthMuonMom_)\n",
    "        truePiMom_list.append(t.truthSel_truthPionMom_)\n",
    "        trueLPMom_list.append(t.truthSel_truthLProtonMom_)\n",
    "        \n",
    "    if (t.passedSel_ == 2) or (t.passedSel_ == 3):\n",
    "    \n",
    "        recoMuMom_list.append(t.recoSel_recoMomMu_)\n",
    "        recoPiMom_list.append(t.recoSel_recoMomPi_)\n",
    "        recoLPMom_list.append(t.recoSel_recoMomP_)\n",
    "    \n",
    "    ##weights_list.append(t.weight_)\n",
    "    \n",
    "    # further check that all 3 particles have a reco momentum\n",
    "    if (t.recoSel_recoMomMu_ != -1) and (t.recoSel_recoMomPi_ != -1) and (t.recoSel_recoMomP_ != -1 ):\n",
    "        #print(\"This one passed! Appending entry...\")\n",
    "        passedIndices_list.append( e )\n",
    "        \n",
    "    \n",
    "muMom_arr = np.asarray(trueMuMom_list)\n",
    "piMom_arr = np.asarray(truePiMom_list)\n",
    "lPMom_arr = np.asarray(recoLPMom_list)\n",
    "\n",
    "recoMuMom_arr = np.asarray(recoMuMom_list)\n",
    "recoPiMom_arr = np.asarray(recoPiMom_list)\n",
    "recoLPMom_arr = np.asarray(recoLPMom_list)\n",
    "\n",
    "both_trueMuMom_arr = np.asarray(both_trueMuMom_list)\n",
    "both_truePiMom_arr = np.asarray(both_truePiMom_list)\n",
    "both_trueLPMom_arr = np.asarray(both_trueLPMom_list)\n",
    "\n",
    "##weights_arr = np.asarray(weights_list)\n",
    "\n",
    "#convert truth from mev to gev\n",
    "#muMom_arr = muMom_arr / 1000.\n",
    "\n",
    "print(\"len(muMom_list)\", len(trueMuMom_list))\n",
    "print(\"len(recoMuMom_list)\", len(recoMuMom_list))\n",
    "\n",
    "print(\"truth muMom_arr: \", muMom_arr)\n",
    "print(\"truth muMom_arr.shape: \", muMom_arr.shape)\n",
    "\n",
    "print(\"recoMuMom_arr: \", recoMuMom_arr)\n",
    "print(\"recoMuMom_arr.shape: \", recoMuMom_arr.shape)\n",
    "\n",
    "print(\"This is how many events had all 3 particles reconstructed: \", len(passedIndices_list))\n",
    "#print(\"The indices are: \", passedIndices_list)\n",
    "\n",
    "print(\"len of both mu mom: \", len(both_trueMuMom_list))"
   ]
  },
  {
   "cell_type": "code",
   "execution_count": 5,
   "id": "18e43c8d",
   "metadata": {},
   "outputs": [
    {
     "name": "stdout",
     "output_type": "stream",
     "text": [
      "Scale is:  2.7777777777777777\n"
     ]
    },
    {
     "ename": "NameError",
     "evalue": "name 'weights_arr' is not defined",
     "output_type": "error",
     "traceback": [
      "\u001b[0;31m---------------------------------------------------------------------------\u001b[0m",
      "\u001b[0;31mNameError\u001b[0m                                 Traceback (most recent call last)",
      "Input \u001b[0;32mIn [5]\u001b[0m, in \u001b[0;36m<module>\u001b[0;34m\u001b[0m\n\u001b[1;32m      8\u001b[0m \u001b[38;5;28mprint\u001b[39m(\u001b[38;5;124m\"\u001b[39m\u001b[38;5;124mScale is: \u001b[39m\u001b[38;5;124m\"\u001b[39m, scale)\n\u001b[1;32m     10\u001b[0m \u001b[38;5;66;03m#print(\"passedWeights_arr\", passedWeights_arr)\u001b[39;00m\n\u001b[0;32m---> 12\u001b[0m \u001b[38;5;28mprint\u001b[39m(np\u001b[38;5;241m.\u001b[39msum(\u001b[43mweights_arr\u001b[49m))\n\u001b[1;32m     13\u001b[0m totalEvents \u001b[38;5;241m=\u001b[39m np\u001b[38;5;241m.\u001b[39msum(weights_arr)\u001b[38;5;241m*\u001b[39mscale\n\u001b[1;32m     14\u001b[0m \u001b[38;5;28mprint\u001b[39m(\u001b[38;5;124m\"\u001b[39m\u001b[38;5;124mtotalEvents: \u001b[39m\u001b[38;5;124m\"\u001b[39m, totalEvents)\n",
      "\u001b[0;31mNameError\u001b[0m: name 'weights_arr' is not defined"
     ]
    }
   ],
   "source": [
    "# POT scaling for events that passed reco only\n",
    "\n",
    "targetPOT = 1.3e21\n",
    "sumPOT = 4.68e20 # this is for run 1\n",
    "#sumPOT = 8.98e20 # this is for run 3\n",
    "\n",
    "scale = targetPOT / sumPOT\n",
    "print(\"Scale is: \", scale)\n",
    "\n",
    "#print(\"passedWeights_arr\", passedWeights_arr)\n",
    "\n",
    "print(np.sum(weights_arr))\n",
    "totalEvents = np.sum(weights_arr)*scale\n",
    "print(\"totalEvents: \", totalEvents)\n",
    "\n",
    "print(np.sum(weightsContained_arr))\n",
    "totalEventsContained = np.sum(weightsContained_arr)*scale\n",
    "print(\"totalEvents (contained): \", totalEventsContained)"
   ]
  },
  {
   "cell_type": "code",
   "execution_count": null,
   "id": "17e42fb4",
   "metadata": {},
   "outputs": [],
   "source": [
    "# Muon momentum\n",
    "\n",
    "# plotting only events that passed\n",
    "# truth muon mom\n",
    "\n",
    "ax = plt.figure().gca()\n",
    "ax.yaxis.get_major_locator().set_params(integer=True)\n",
    "\n",
    "counts, bins = np.histogram(muMom_arr, bins=100)\n",
    "##counts, bins = np.histogram(muMom_arr, bins=100, weights=weights_arr)\n",
    "##scaledCounts = counts*scale\n",
    "\n",
    "##print(sum(counts))\n",
    "##print(sum(scaledCounts))\n",
    "\n",
    "##plt.stairs(scaledCounts, bins, label=\"1.3e21 POT (data, all runs)\")\n",
    "plt.stairs(counts, bins, label=\"4.68e20 POT (sim, Run 1)\")\n",
    "\n",
    "\n",
    "plt.xlabel('Truth Muon Momentum (GeV/c)')\n",
    "plt.ylabel('Counts')\n",
    "plt.title('Truth Muon Momentum Distribution')\n",
    "\n",
    "handles, labels = ax.get_legend_handles_labels()\n",
    "ax.legend(handles, labels)"
   ]
  },
  {
   "cell_type": "code",
   "execution_count": null,
   "id": "1397fdfb",
   "metadata": {},
   "outputs": [],
   "source": []
  }
 ],
 "metadata": {
  "kernelspec": {
   "display_name": "Python 3",
   "language": "python",
   "name": "python3"
  },
  "language_info": {
   "codemirror_mode": {
    "name": "ipython",
    "version": 3
   },
   "file_extension": ".py",
   "mimetype": "text/x-python",
   "name": "python",
   "nbconvert_exporter": "python",
   "pygments_lexer": "ipython3",
   "version": "3.8.5"
  }
 },
 "nbformat": 4,
 "nbformat_minor": 5
}
