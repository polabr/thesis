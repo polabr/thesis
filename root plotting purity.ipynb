{
 "cells": [
  {
   "cell_type": "code",
   "execution_count": 1,
   "id": "d891b0a0",
   "metadata": {},
   "outputs": [
    {
     "name": "stdout",
     "output_type": "stream",
     "text": [
      "Welcome to JupyROOT 6.22/09\n"
     ]
    }
   ],
   "source": [
    "import ROOT as rt\n",
    "from ROOT import TFile, TTree, TCanvas, TH2D, TH1F"
   ]
  },
  {
   "cell_type": "code",
   "execution_count": 2,
   "id": "83c3821d",
   "metadata": {},
   "outputs": [],
   "source": [
    "h_trueAndReco = rt.TH1F(\"h_trueAndReco\",\"Purity\",100, 0, 2)\n",
    "h_true = rt.TH1F(\"h_true\",\"True\",100, 0, 2)\n",
    "h_reco = rt.TH1F(\"h_reco\",\"Reco\",100, 0, 2)"
   ]
  },
  {
   "cell_type": "code",
   "execution_count": 3,
   "id": "68a9a0ed",
   "metadata": {},
   "outputs": [
    {
     "name": "stdout",
     "output_type": "stream",
     "text": [
      "10913\n"
     ]
    }
   ],
   "source": [
    "f = TFile(\"selectedEventsTrueRecoBoth_091524.root\",\"READ\")\n",
    "t = f.Get(\"selectedEvents\")\n",
    "\n",
    "entries = t.GetEntries()\n",
    "print(entries)"
   ]
  },
  {
   "cell_type": "code",
   "execution_count": 4,
   "id": "5af8dbfa",
   "metadata": {},
   "outputs": [],
   "source": [
    "# making plots in terms of reco muon momentum on the x-axis (so filling with this)\n",
    "\n",
    "for e in range(entries):\n",
    "\n",
    "    t.GetEntry(e)\n",
    "    \n",
    "    if (t.passedSel_ == 2) or (t.passedSel_ == 3): # passes reco selection\n",
    "        h_reco.Fill(t.recoSel_recoMomMu_, t.weight_)\n",
    "        if (t.passedSel_ == 1) or (t.passedSel_ == 3): # passes truth selection\n",
    "            h_trueAndReco.Fill(t.recoSel_recoMomMu_, t.weight_)"
   ]
  },
  {
   "cell_type": "code",
   "execution_count": 5,
   "id": "95f0fb69",
   "metadata": {},
   "outputs": [
    {
     "data": {
      "image/png": "[encoded data removed]",
      "text/plain": [
       "<IPython.core.display.Image object>"
      ]
     },
     "metadata": {},
     "output_type": "display_data"
    }
   ],
   "source": [
    "c1 = TCanvas(\"c1\",\"c1\",720,152,682,505)\n",
    "c1.cd()\n",
    "h_reco.Draw(\"\")\n",
    "\n",
    "c1.Draw()"
   ]
  },
  {
   "cell_type": "code",
   "execution_count": 6,
   "id": "bf440f09",
   "metadata": {},
   "outputs": [],
   "source": [
    "targetPOT = 1.3e21\n",
    "simPOT = 4.68e20 # this is for run 1\n",
    "\n",
    "h_trueAndReco.Scale(targetPOT/simPOT)\n",
    "h_true.Scale(targetPOT/simPOT)\n",
    "h_reco.Scale(targetPOT/simPOT)"
   ]
  },
  {
   "cell_type": "code",
   "execution_count": 7,
   "id": "3fcd245a",
   "metadata": {},
   "outputs": [
    {
     "name": "stdout",
     "output_type": "stream",
     "text": [
      "h_purity:  Name: h_purity Title: Purity NbinsX: 100\n"
     ]
    },
    {
     "data": {
      "image/png": "[encoded data removed]",
      "text/plain": [
       "<IPython.core.display.Image object>"
      ]
     },
     "metadata": {},
     "output_type": "display_data"
    }
   ],
   "source": [
    "h_purity = h_trueAndReco.Clone(\"h_purity\")\n",
    "h_purity.Divide(h_reco)\n",
    "\n",
    "print(\"h_purity: \", h_purity)\n",
    "\n",
    "h_purity.GetXaxis().SetTitle(\"Reco Muon Momentum [GeV]\")\n",
    "\n",
    "canvas = TCanvas(\"canvas\",\"canvas\",720,152,682,505)\n",
    "canvas.cd()\n",
    "h_purity.Draw(\"\")\n",
    "\n",
    "canvas.Draw()\n",
    "\n",
    "#outfile = rt.TFile(\"plots.root\",\"RECREATE\")\n",
    "#canvas.Write()\n",
    "\n"
   ]
  },
  {
   "cell_type": "code",
   "execution_count": 14,
   "id": "83cab58d",
   "metadata": {},
   "outputs": [
    {
     "ename": "AttributeError",
     "evalue": "'THStack' object has no attribute 'SetFillColor'",
     "output_type": "error",
     "traceback": [
      "\u001b[0;31m---------------------------------------------------------------------------\u001b[0m",
      "\u001b[0;31mAttributeError\u001b[0m                            Traceback (most recent call last)",
      "Input \u001b[0;32mIn [14]\u001b[0m, in \u001b[0;36m<module>\u001b[0;34m\u001b[0m\n\u001b[1;32m      4\u001b[0m hs\u001b[38;5;241m.\u001b[39mAdd(h_purity, \u001b[38;5;124m\"\u001b[39m\u001b[38;5;124mhist\u001b[39m\u001b[38;5;124m\"\u001b[39m)\n\u001b[1;32m      5\u001b[0m hs\u001b[38;5;241m.\u001b[39mAdd(h_purity, \u001b[38;5;124m\"\u001b[39m\u001b[38;5;124mhist\u001b[39m\u001b[38;5;124m\"\u001b[39m)\n\u001b[0;32m----> 6\u001b[0m \u001b[43mhs\u001b[49m\u001b[38;5;241;43m.\u001b[39;49m\u001b[43mSetFillColor\u001b[49m(\u001b[38;5;124m\"\u001b[39m\u001b[38;5;124mkBlue\u001b[39m\u001b[38;5;124m\"\u001b[39m)\n\u001b[1;32m      7\u001b[0m \u001b[38;5;66;03m#hs.Add(hBkg1, \"hist\")\u001b[39;00m\n\u001b[1;32m      8\u001b[0m \n\u001b[1;32m      9\u001b[0m \u001b[38;5;66;03m# Create a canvas\u001b[39;00m\n\u001b[1;32m     10\u001b[0m c \u001b[38;5;241m=\u001b[39m rt\u001b[38;5;241m.\u001b[39mTCanvas(\u001b[38;5;124m\"\u001b[39m\u001b[38;5;124mc\u001b[39m\u001b[38;5;124m\"\u001b[39m, \u001b[38;5;124m\"\u001b[39m\u001b[38;5;124mStacked Purity Plot\u001b[39m\u001b[38;5;124m\"\u001b[39m, \u001b[38;5;241m800\u001b[39m, \u001b[38;5;241m600\u001b[39m)\n",
      "\u001b[0;31mAttributeError\u001b[0m: 'THStack' object has no attribute 'SetFillColor'"
     ]
    }
   ],
   "source": [
    "# create stacked histogram\n",
    "\n",
    "hs = rt.THStack(\"hs\", \"Stacked Purity Plot\")\n",
    "hs.Add(h_purity, \"hist\")\n",
    "hs.Add(h_purity, \"hist\")\n",
    "#hs.Add(hBkg1, \"hist\")\n",
    "\n",
    "# Create a canvas\n",
    "c = rt.TCanvas(\"c\", \"Stacked Purity Plot\", 800, 600)\n",
    "\n",
    "# Draw the stacked histogram\n",
    "hs.Draw(\"hist\")\n",
    "hs.GetXaxis().SetTitle(\"Bin\")\n",
    "hs.GetYaxis().SetTitle(\"Events\")\n",
    "\n",
    "c.Draw()"
   ]
  },
  {
   "cell_type": "code",
   "execution_count": null,
   "id": "30cc83de",
   "metadata": {},
   "outputs": [],
   "source": []
  }
 ],
 "metadata": {
  "kernelspec": {
   "display_name": "Python 3",
   "language": "python",
   "name": "python3"
  },
  "language_info": {
   "codemirror_mode": {
    "name": "ipython",
    "version": 3
   },
   "file_extension": ".py",
   "mimetype": "text/x-python",
   "name": "python",
   "nbconvert_exporter": "python",
   "pygments_lexer": "ipython3",
   "version": "3.8.5"
  }
 },
 "nbformat": 4,
 "nbformat_minor": 5
}
