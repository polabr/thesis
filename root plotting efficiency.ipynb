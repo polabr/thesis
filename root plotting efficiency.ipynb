{
 "cells": [
  {
   "cell_type": "code",
   "execution_count": 1,
   "id": "d891b0a0",
   "metadata": {},
   "outputs": [
    {
     "name": "stdout",
     "output_type": "stream",
     "text": [
      "Welcome to JupyROOT 6.22/09\n"
     ]
    }
   ],
   "source": [
    "import ROOT as rt\n",
    "from ROOT import TFile, TTree, TCanvas, TH2D, TH1F, gStyle"
   ]
  },
  {
   "cell_type": "code",
   "execution_count": 2,
   "id": "e0b6aed3",
   "metadata": {},
   "outputs": [],
   "source": [
    "gStyle.SetOptStat(0)"
   ]
  },
  {
   "cell_type": "code",
   "execution_count": 3,
   "id": "83c3821d",
   "metadata": {},
   "outputs": [],
   "source": [
    "h_trueAndReco = rt.TH1F(\"h_trueAndReco\",\"Efficiency\",10, 0, 2)\n",
    "h_true = rt.TH1F(\"h_true\",\"True\",10, 0, 2)\n",
    "h_reco = rt.TH1F(\"h_reco\",\"Reco\",10, 0, 2)"
   ]
  },
  {
   "cell_type": "code",
   "execution_count": 4,
   "id": "68a9a0ed",
   "metadata": {},
   "outputs": [
    {
     "name": "stdout",
     "output_type": "stream",
     "text": [
      "10913\n"
     ]
    }
   ],
   "source": [
    "f = TFile(\"selectedEventsTrueRecoBoth_withTrueTrkDir_withParticleEs_111124.root\",\"READ\")\n",
    "\n",
    "#f = TFile(\"selectedEventsTrueRecoBoth_091524.root\",\"READ\")\n",
    "#f = TFile(\"selectedEventsTrueRecoBoth_muonCutOnly2_092324.root\",\"READ\")\n",
    "t = f.Get(\"selectedEvents\")\n",
    "\n",
    "entries = t.GetEntries()\n",
    "print(entries)"
   ]
  },
  {
   "cell_type": "code",
   "execution_count": 5,
   "id": "5af8dbfa",
   "metadata": {},
   "outputs": [],
   "source": [
    "plotvar = t.truthSel_truthMuonMom_\n",
    "\n",
    "# making plots in terms of truth muon momentum on the x-axis (so filling with this)\n",
    "\n",
    "for e in range(entries):\n",
    "\n",
    "    t.GetEntry(e)\n",
    "    \n",
    "    if (t.passedSel_ == 1) or (t.passedSel_ == 3): # passes truth selection\n",
    "        h_true.Fill(t.truthSel_truthMuonMom_, t.weight_)\n",
    "        if (t.passedSel_ == 2) or (t.passedSel_ == 3): # passes reco selection as well (both selections)\n",
    "            h_trueAndReco.Fill(t.truthSel_truthMuonMom_, t.weight_)\n",
    "    if (t.passedSel_ == 2) or (t.passedSel_ == 3): # passes reco selection\n",
    "        h_reco.Fill(t.truthSel_truthMuonMom_, t.weight_)\n"
   ]
  },
  {
   "cell_type": "code",
   "execution_count": 6,
   "id": "95f0fb69",
   "metadata": {},
   "outputs": [
    {
     "data": {
      "image/png": "[encoded data removed]",
      "text/plain": [
       "<IPython.core.display.Image object>"
      ]
     },
     "metadata": {},
     "output_type": "display_data"
    }
   ],
   "source": [
    "c1 = TCanvas(\"c1\",\"c1\",720,152,682,505)\n",
    "c1.cd()\n",
    "h_reco.Draw(\"\")\n",
    "\n",
    "c1.Draw()"
   ]
  },
  {
   "cell_type": "code",
   "execution_count": 7,
   "id": "bf440f09",
   "metadata": {},
   "outputs": [],
   "source": [
    "targetPOT = 1.3e21\n",
    "simPOT = 4.68e20 # this is for run 1\n",
    "\n",
    "h_trueAndReco.Scale(targetPOT/simPOT)\n",
    "h_true.Scale(targetPOT/simPOT)\n",
    "h_reco.Scale(targetPOT/simPOT)"
   ]
  },
  {
   "cell_type": "code",
   "execution_count": 8,
   "id": "3fcd245a",
   "metadata": {},
   "outputs": [
    {
     "name": "stdout",
     "output_type": "stream",
     "text": [
      "h_eff:  Name: h_eff Title: Efficiency NbinsX: 10\n"
     ]
    },
    {
     "data": {
      "image/png": "[encoded data removed]",
      "text/plain": [
       "<IPython.core.display.Image object>"
      ]
     },
     "metadata": {},
     "output_type": "display_data"
    }
   ],
   "source": [
    "h_eff = h_trueAndReco.Clone(\"h_eff\")\n",
    "h_eff.Divide(h_true)\n",
    "\n",
    "print(\"h_eff: \", h_eff)\n",
    "\n",
    "h_eff.GetXaxis().SetTitle(\"Truth Muon Momentum [GeV]\")\n",
    "\n",
    "canvas = TCanvas(\"canvas\",\"canvas\",720,152,682,505)\n",
    "canvas.cd()\n",
    "h_eff.Draw(\"\")\n",
    "\n",
    "canvas.Draw()\n",
    "\n",
    "#outfile = rt.TFile(\"plots.root\",\"RECREATE\")\n",
    "#canvas.Write()\n",
    "\n"
   ]
  },
  {
   "cell_type": "code",
   "execution_count": null,
   "id": "83cab58d",
   "metadata": {},
   "outputs": [],
   "source": []
  },
  {
   "cell_type": "code",
   "execution_count": null,
   "id": "2104aeff",
   "metadata": {},
   "outputs": [],
   "source": []
  }
 ],
 "metadata": {
  "kernelspec": {
   "display_name": "Python 3",
   "language": "python",
   "name": "python3"
  },
  "language_info": {
   "codemirror_mode": {
    "name": "ipython",
    "version": 3
   },
   "file_extension": ".py",
   "mimetype": "text/x-python",
   "name": "python",
   "nbconvert_exporter": "python",
   "pygments_lexer": "ipython3",
   "version": "3.8.5"
  }
 },
 "nbformat": 4,
 "nbformat_minor": 5
}
